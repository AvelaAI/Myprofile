{
  "nbformat": 4,
  "nbformat_minor": 0,
  "metadata": {
    "colab": {
      "provenance": [],
      "history_visible": true,
      "authorship_tag": "ABX9TyP/zUvtTpYVMSPFhsyhxwiw",
      "include_colab_link": true
    },
    "kernelspec": {
      "name": "python3",
      "display_name": "Python 3"
    },
    "language_info": {
      "name": "python"
    }
  },
  "cells": [
    {
      "cell_type": "markdown",
      "metadata": {
        "id": "view-in-github",
        "colab_type": "text"
      },
      "source": [
        "<a href=\"https://colab.research.google.com/github/AvelaAI/Myprofile/blob/main/Day_three_CHPC.ipynb\" target=\"_parent\"><img src=\"https://colab.research.google.com/assets/colab-badge.svg\" alt=\"Open In Colab\"/></a>"
      ]
    },
    {
      "cell_type": "code",
      "execution_count": 6,
      "metadata": {
        "id": "A2VNoHEI-EtT"
      },
      "outputs": [],
      "source": [
        "# # ''recape from yesterday\n",
        "# # what is Df, varible or  fuction ?\n",
        "\n",
        "# # df = read_csv('apps_data.csv')\n",
        "\n",
        "# # print(df.info())\n",
        "# # print(df.describe())\n",
        "\n",
        "# # # want to print cate\n",
        "\n",
        "# # # Print(df[\"App\"])\n",
        "\n",
        "# # removing duplicates\n",
        "# df = df.drop_duplicates()\n",
        "\n",
        "# df = df[df['rating']>4.0]\n",
        "# print (dt [\"Rating\"]> 4.0)\n",
        "\n",
        "# # removing missing values\n",
        "# df = df.dropna()'''\n",
        "\n",
        "# df = df.query(\"Rating\"> 4.0)\n",
        "\n"
      ]
    },
    {
      "cell_type": "code",
      "source": [
        "# App day 3\n",
        "\n",
        "1 import streamlit as st\n",
        "st.title(\"streamlit is Amazing!\")\n",
        "\n",
        "\n",
        "\n"
      ],
      "metadata": {
        "id": "O-ZYArMLFzBd"
      },
      "execution_count": null,
      "outputs": []
    },
    {
      "cell_type": "code",
      "source": [
        "import streamlit as st\n",
        "import pandas as pd\n",
        "\n",
        "# Title of the app\n",
        "st.title(\"Researcher Profile Page\")\n",
        "st.write(\"I am an aspiring geospatial scientist in the field of Geographic Information Systems and Remote Sensing. My research intrests is nighttime light\")\n",
        "\n",
        "# Collect basic information\n",
        "name = \"Mr. Avela Xulu\"\n",
        "field = \"Geospatial Science\"\n",
        "project = \"Assement of land and energy usage in Cities using nighttime light detected from spacebrone satellites \"\n",
        "institution = \"University of the Free State\"\n",
        "\n",
        "# Display basic profile information\n",
        "st.header(\"Researcher Overview\")\n",
        "st.write(f\"**Name:** {name}\")\n",
        "st.write(f\"**Field of Research:** {field}\")\n",
        "st.write(f\"**Institution:** {institution}\")\n",
        "\n",
        "# Add a section for publications\n",
        "st.header(\"Publications\")\n",
        "uploaded_file = st.file_uploader(\"Upload a CSV of Publications\", type=\"csv\")\n",
        "\n",
        "if uploaded_file:\n",
        "    publications = pd.read_csv(uploaded_file)\n",
        "    st.dataframe(publications)\n",
        "\n",
        "    # Add filtering for year or keyword\n",
        "    keyword = st.text_input(\"Filter by keyword\", \"\")\n",
        "    if keyword:\n",
        "        filtered = publications[\n",
        "            publications.apply(lambda row: keyword.lower() in row.astype(str).str.lower().values, axis=1)\n",
        "        ]\n",
        "        st.write(f\"Filtered Results for '{keyword}':\")\n",
        "        st.dataframe(filtered)\n",
        "    else:\n",
        "        st.write(\"Showing all publications\")\n",
        "\n",
        "# Add a section for visualizing publication trends\n",
        "st.header(\"Publication Trends\")\n",
        "if uploaded_file:\n",
        "    if \"Year\" in publications.columns:\n",
        "        year_counts = publications[\"Year\"].value_counts().sort_index()\n",
        "        st.bar_chart(year_counts)\n",
        "    else:\n",
        "        st.write(\"The CSV does not have a 'Year' column to visualize trends.\")\n",
        "\n",
        "# Add a contact section\n",
        "st.header(\"Contact Information\")\n",
        "email = \"Avelasphesihle12@gmail.com\"\n",
        "st.write(f\"You can reach {name} at {email}.\")"
      ],
      "metadata": {
        "colab": {
          "base_uri": "https://localhost:8080/",
          "height": 399
        },
        "id": "CHmiZVgWhGHX",
        "outputId": "040ca2c1-7fa9-401c-93bb-2c421b1ccbe6"
      },
      "execution_count": 1,
      "outputs": [
        {
          "output_type": "error",
          "ename": "ModuleNotFoundError",
          "evalue": "No module named 'streamlit'",
          "traceback": [
            "\u001b[0;31m---------------------------------------------------------------------------\u001b[0m",
            "\u001b[0;31mModuleNotFoundError\u001b[0m                       Traceback (most recent call last)",
            "\u001b[0;32m<ipython-input-1-68dea82d4a68>\u001b[0m in \u001b[0;36m<cell line: 0>\u001b[0;34m()\u001b[0m\n\u001b[0;32m----> 1\u001b[0;31m \u001b[0;32mimport\u001b[0m \u001b[0mstreamlit\u001b[0m \u001b[0;32mas\u001b[0m \u001b[0mst\u001b[0m\u001b[0;34m\u001b[0m\u001b[0;34m\u001b[0m\u001b[0m\n\u001b[0m\u001b[1;32m      2\u001b[0m \u001b[0;32mimport\u001b[0m \u001b[0mpandas\u001b[0m \u001b[0;32mas\u001b[0m \u001b[0mpd\u001b[0m\u001b[0;34m\u001b[0m\u001b[0;34m\u001b[0m\u001b[0m\n\u001b[1;32m      3\u001b[0m \u001b[0;34m\u001b[0m\u001b[0m\n\u001b[1;32m      4\u001b[0m \u001b[0;31m# Title of the app\u001b[0m\u001b[0;34m\u001b[0m\u001b[0;34m\u001b[0m\u001b[0m\n\u001b[1;32m      5\u001b[0m \u001b[0mst\u001b[0m\u001b[0;34m.\u001b[0m\u001b[0mtitle\u001b[0m\u001b[0;34m(\u001b[0m\u001b[0;34m\"Researcher Profile Page\"\u001b[0m\u001b[0;34m)\u001b[0m\u001b[0;34m\u001b[0m\u001b[0;34m\u001b[0m\u001b[0m\n",
            "\u001b[0;31mModuleNotFoundError\u001b[0m: No module named 'streamlit'",
            "",
            "\u001b[0;31m---------------------------------------------------------------------------\u001b[0;32m\nNOTE: If your import is failing due to a missing package, you can\nmanually install dependencies using either !pip or !apt.\n\nTo view examples of installing some common dependencies, click the\n\"Open Examples\" button below.\n\u001b[0;31m---------------------------------------------------------------------------\u001b[0m\n"
          ],
          "errorDetails": {
            "actions": [
              {
                "action": "open_url",
                "actionText": "Open Examples",
                "url": "/notebooks/snippets/importing_libraries.ipynb"
              }
            ]
          }
        }
      ]
    },
    {
      "cell_type": "code",
      "source": [],
      "metadata": {
        "id": "ZakCeAJi-c21"
      },
      "execution_count": null,
      "outputs": []
    }
  ]
}