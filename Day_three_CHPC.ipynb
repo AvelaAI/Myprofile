{
  "nbformat": 4,
  "nbformat_minor": 0,
  "metadata": {
    "colab": {
      "provenance": [],
      "history_visible": true,
      "authorship_tag": "ABX9TyOcdZmkLrSW2T+kxxrht8nt",
      "include_colab_link": true
    },
    "kernelspec": {
      "name": "python3",
      "display_name": "Python 3"
    },
    "language_info": {
      "name": "python"
    }
  },
  "cells": [
    {
      "cell_type": "markdown",
      "metadata": {
        "id": "view-in-github",
        "colab_type": "text"
      },
      "source": [
        "<a href=\"https://colab.research.google.com/github/AvelaAI/Myprofile/blob/main/Day_three_CHPC.ipynb\" target=\"_parent\"><img src=\"https://colab.research.google.com/assets/colab-badge.svg\" alt=\"Open In Colab\"/></a>"
      ]
    },
    {
      "cell_type": "code",
      "execution_count": 6,
      "metadata": {
        "id": "A2VNoHEI-EtT"
      },
      "outputs": [],
      "source": [
        "# # ''recape from yesterday\n",
        "# # what is Df, varible or  fuction ?\n",
        "\n",
        "# # df = read_csv('apps_data.csv')\n",
        "\n",
        "# # print(df.info())\n",
        "# # print(df.describe())\n",
        "\n",
        "# # # want to print cate\n",
        "\n",
        "# # # Print(df[\"App\"])\n",
        "\n",
        "# # removing duplicates\n",
        "# df = df.drop_duplicates()\n",
        "\n",
        "# df = df[df['rating']>4.0]\n",
        "# print (dt [\"Rating\"]> 4.0)\n",
        "\n",
        "# # removing missing values\n",
        "# df = df.dropna()'''\n",
        "\n",
        "# df = df.query(\"Rating\"> 4.0)\n",
        "\n"
      ]
    },
    {
      "cell_type": "code",
      "source": [
        "# App day 3\n",
        "\n",
        "1 import streamlit as st\n",
        "st.title(\"streamlit is Amazing!\")\n",
        "\n",
        "\n",
        "\n"
      ],
      "metadata": {
        "id": "O-ZYArMLFzBd"
      },
      "execution_count": null,
      "outputs": []
    },
    {
      "cell_type": "code",
      "source": [
        "import streamlit as st\n",
        "import pandas as pd\n",
        "\n",
        "# Title of the app\n",
        "st.title(\"Researcher Profile Page\")\n",
        "\n",
        "# Collect basic information\n",
        "name = \"Mr. Avela Xulu\"\n",
        "field = \"Geospatial Science\"\n",
        "project = \"Geoinformatics, looking at nighttime  \"\n",
        "institution = \"University of the Free State\"\n",
        "\n",
        "# Display basic profile information\n",
        "st.header(\"Researcher Overview\")\n",
        "st.write(f\"**Name:** {name}\")\n",
        "st.write(f\"**Field of Research:** {field}\")\n",
        "st.write(f\"**Institution:** {institution}\")\n",
        "\n",
        "# Add a section for publications\n",
        "st.header(\"Publications\")\n",
        "uploaded_file = st.file_uploader(\"Upload a CSV of Publications\", type=\"csv\")\n",
        "\n",
        "if uploaded_file:\n",
        "    publications = pd.read_csv(uploaded_file)\n",
        "    st.dataframe(publications)\n",
        "\n",
        "    # Add filtering for year or keyword\n",
        "    keyword = st.text_input(\"Filter by keyword\", \"\")\n",
        "    if keyword:\n",
        "        filtered = publications[\n",
        "            publications.apply(lambda row: keyword.lower() in row.astype(str).str.lower().values, axis=1)\n",
        "        ]\n",
        "        st.write(f\"Filtered Results for '{keyword}':\")\n",
        "        st.dataframe(filtered)\n",
        "    else:\n",
        "        st.write(\"Showing all publications\")\n",
        "\n",
        "# Add a section for visualizing publication trends\n",
        "st.header(\"Publication Trends\")\n",
        "if uploaded_file:\n",
        "    if \"Year\" in publications.columns:\n",
        "        year_counts = publications[\"Year\"].value_counts().sort_index()\n",
        "        st.bar_chart(year_counts)\n",
        "    else:\n",
        "        st.write(\"The CSV does not have a 'Year' column to visualize trends.\")\n",
        "\n",
        "# Add a contact section\n",
        "st.header(\"Contact Information\")\n",
        "email = \"Avelasphesihle12@gmail.com\"\n",
        "st.write(f\"You can reach {name} at {email}.\")"
      ],
      "metadata": {
        "id": "CHmiZVgWhGHX"
      },
      "execution_count": null,
      "outputs": []
    }
  ]
}