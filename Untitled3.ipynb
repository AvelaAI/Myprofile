{
  "nbformat": 4,
  "nbformat_minor": 0,
  "metadata": {
    "colab": {
      "provenance": [],
      "authorship_tag": "ABX9TyMI70LYVXUjmdNbIM5JlRQz",
      "include_colab_link": true
    },
    "kernelspec": {
      "name": "python3",
      "display_name": "Python 3"
    },
    "language_info": {
      "name": "python"
    }
  },
  "cells": [
    {
      "cell_type": "markdown",
      "metadata": {
        "id": "view-in-github",
        "colab_type": "text"
      },
      "source": [
        "<a href=\"https://colab.research.google.com/github/AvelaAI/Myprofile/blob/main/Untitled3.ipynb\" target=\"_parent\"><img src=\"https://colab.research.google.com/assets/colab-badge.svg\" alt=\"Open In Colab\"/></a>"
      ]
    },
    {
      "cell_type": "code",
      "execution_count": 27,
      "metadata": {
        "colab": {
          "base_uri": "https://localhost:8080/"
        },
        "id": "iPlr0apoBffW",
        "outputId": "a21fee49-14e0-473c-d1af-1294f3555cb3"
      },
      "outputs": [
        {
          "output_type": "stream",
          "name": "stdout",
          "text": [
            "hellow World\n",
            "File 4 daowload\n",
            "Download5\n",
            "Download5\n",
            "1.csv file already exist\n",
            "2.csv file already exist\n",
            "3.csv file already exist\n",
            "4.csv file already exist\n",
            "5.csv file already exist\n",
            "Download5\n"
          ]
        }
      ],
      "source": [
        "print(\"hellow World\")\n",
        "\n",
        "\n",
        "\n",
        "import os\n",
        "import requests as req\n",
        "\n",
        "try:\n",
        "  os.mkdir(\"bioact\")\n",
        "except FileExistsError:\n",
        "   pass\n",
        "\n",
        "\n",
        "\n",
        "res= req.get (\"https://phytochem.nal.usda.gov/biological-activities-chemicals-csv-export/4/all?page&_format=csv\")\n",
        "csv = open(\"bioact/4.csv\",\"wb\")\n",
        "csv.write(res.content)\n",
        "csv.close()\n",
        "\n",
        "print('File 4 daowload')\n",
        "\n",
        "# https://phytochem.nal.usda.gov/biological-activities-chemicals-csv-export/5/all?page&_format=csv\n",
        "\n",
        "\n",
        "base = \"https://phytochem.nal.usda.gov/\"\n",
        "\n",
        "mid= \"/biological-activities-chemicals-csv-export\"\n",
        "for bio in range(4,6):\n",
        "  res = req.get(base+mid+str(bio)+\"/all?page&_format=csv\")\n",
        "  csv = open(\"bioact/\"+str(bio)+\".csv\", \"wb\")\n",
        "  csv.write(res.content)\n",
        "  csv.close()\n",
        "\n",
        "print('Download'+str(bio))\n",
        "\n",
        "\n",
        "# res1= req.get(\"https://phytochem.nal.usda.gov/biological-activities-chemicals-csv-export/4/all?page&_format=csv\" + \"https://phytochem.nal.usda.gov/biological-activities-chemicals-csv-export/5/all?page&_format=csv\")\n",
        "# csv1 = open (\"bioact/4.csv\", \"bioact/5.csv\",\"wb\")\n",
        "# csv1.write(res1.content)\n",
        "# csv1.close()\n",
        "\n",
        "# print('File 4 & 5 download')\n",
        "\n",
        "\n",
        "base = \"https://phytochem.nal.usda.gov/\"\n",
        "\n",
        "mid= \"/biological-activities-chemicals-csv-export\"\n",
        "for bio in range(1,6):\n",
        "  res = req.get(base+mid+str(bio)+\"/all?page&_format=csv\")\n",
        "  csv = open(\"bioact/\"+str(bio)+\".csv\", \"wb\")\n",
        "  csv.write(res.content)\n",
        "  csv.close()\n",
        "\n",
        "print('Download'+str(bio))\n",
        "\n",
        "\n",
        "base = \"https://phytochem.nal.usda.gov/\"\n",
        "\n",
        "mid= \"/biological-activities-chemicals-csv-export\"\n",
        "for bio in range(1,6):\n",
        "  if os.path.isfile(\"bioact/\"+str(bio)+\".csv\"):\n",
        "    print(str(bio)+\".csv file already exist\")\n",
        "  else:\n",
        "    res = req.get(base+mid+str(bio)+\"/all?page&_format=csv\")\n",
        "    csv = open(\"bioact/\"+str(bio)+\".csv\", \"wb\")\n",
        "    csv.write(res.content)\n",
        "    csv.close()\n",
        "\n",
        "print('Download'+str(bio))\n",
        "\n",
        "\n",
        "\n"
      ]
    }
  ]
}